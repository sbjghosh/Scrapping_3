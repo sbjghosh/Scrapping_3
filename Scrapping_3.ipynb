{
 "cells": [
  {
   "cell_type": "code",
   "execution_count": 1,
   "metadata": {},
   "outputs": [],
   "source": [
    "import selenium\n",
    "import pandas as pd\n",
    "import numpy as np\n",
    "from selenium import webdriver\n",
    "from selenium.webdriver.chrome.options import Options"
   ]
  },
  {
   "cell_type": "code",
   "execution_count": 2,
   "metadata": {},
   "outputs": [],
   "source": [
    "from selenium.common.exceptions import NoSuchElementException"
   ]
  },
  {
   "cell_type": "code",
   "execution_count": 3,
   "metadata": {},
   "outputs": [],
   "source": [
    "from selenium.webdriver.support.ui import WebDriverWait\n",
    "from selenium.common.exceptions import StaleElementReferenceException\n",
    "from selenium.webdriver.support import expected_conditions as EC\n",
    "from selenium.webdriver.common.by import By"
   ]
  },
  {
   "cell_type": "code",
   "execution_count": 137,
   "metadata": {},
   "outputs": [
    {
     "name": "stderr",
     "output_type": "stream",
     "text": [
      "C:\\ProgramData\\Anaconda3\\lib\\site-packages\\ipykernel_launcher.py:3: DeprecationWarning: use options instead of chrome_options\n",
      "  This is separate from the ipykernel package so we can avoid doing imports until\n"
     ]
    }
   ],
   "source": [
    "c_options=Options()\n",
    "c_options.add_argument('--incognito')\n",
    "driver=webdriver.Chrome(\"chromedriver.exe\",chrome_options=c_options)"
   ]
  },
  {
   "cell_type": "markdown",
   "metadata": {},
   "source": [
    "Q 1"
   ]
  },
  {
   "cell_type": "code",
   "execution_count": 21,
   "metadata": {},
   "outputs": [
    {
     "name": "stdout",
     "output_type": "stream",
     "text": [
      "What do you want to look for in www.amazon.com? book\n"
     ]
    }
   ],
   "source": [
    "search_str = str(input(\"What do you want to look for in www.amazon.com? \")) \n",
    "driver.get('https://www.amazon.in/')\n",
    "input_place=driver.find_element_by_xpath('//input[@id=\"twotabsearchtextbox\"]')\n",
    "input_place.send_keys(search_str)\n",
    "search_btn=driver.find_element_by_xpath(\"//input[@id='nav-search-submit-button']\")\n",
    "search_btn.click()"
   ]
  },
  {
   "cell_type": "code",
   "execution_count": 22,
   "metadata": {},
   "outputs": [],
   "source": [
    "content_pages=[]\n",
    "content_pages.append(driver.find_element_by_xpath('//li[@class=\"a-selected\"]/a').get_attribute('href'))\n",
    "content_pages_=[ i.get_attribute('href') for i in driver.find_elements_by_xpath('//li[@class=\"a-normal\"]/a')]\n",
    "\n",
    "for i in content_pages_:\n",
    "    content_pages.append(i)"
   ]
  },
  {
   "cell_type": "code",
   "execution_count": 25,
   "metadata": {},
   "outputs": [
    {
     "name": "stdout",
     "output_type": "stream",
     "text": [
      "[\"Buddha's House of Mirrors\", 'As a Man Thinketh', 'World’s Greatest Books For Personal Growth & Wealth (Set of 4 Books): Perfect Motivational Gift Set', 'Unfinished: A Memoir', 'Death; An Inside Story: A book for all those who shall die', 'Sapiens: A Brief History of Humankind', 'Think Like a Monk: The secret of how to harness the power of positivity and be happy now', 'Ikigai: The Japanese secret to a long and happy life', 'World’s Greatest Books For Personal Growth & Wealth (Set of 4 Books): Perfect Motivational Gift Set', 'Attitude Is Everything: Change Your Attitude ... Change Your Life!', 'My First Library: Boxset of 10 Board Books for Kids', 'Ikigai: The Japanese secret to a long and happy life', 'One Arranged Murder', 'Motivation - Adult Colouring Book for Peace & Relaxation', 'The Psychology of Money', 'The Pursuit of Happiness: A Book of Studies and Strowings', 'Mandala Art: Colouring Books for Adults with Tear Out Sheets (Adult Colouring Book)', \"Karma: A Yogi's Guide to Crafting Your Destiny\", 'My First Complete Learning Library: Boxset of 20 Board Books Gift Set for Kids (Horizontal Design)', 'Think Like a Monk: The secret of how to harness the power of positivity and be happy now', '1001 Activities Book', 'Pregnancy Notes: Before, During & After (City Plans)', 'Peppa Pig: Little Library', '-', 'World’s Best Inspirational Books to Change Your Life (Box Set of 3 Books)', 'Road to Success: Timeless Advice for Today', 'The Law of Success in Sixteen Lessons', 'World’s Greatest Books For Personal Growth & Wealth (Set of 4 Books)', 'Peppa Pig: Little Library', 'COMBO: CSIR-JRF-NET: Life Sciences Fundamentals And Practice Part 1 & Part 2', 'Sapiens: A Brief History of Humankind', 'The Rudest Book Ever', 'My First Little Librarian: Boxset of 12 Best Board Books for Kids', 'Refreshing Mandala - Colouring Book for Adults Book 1', \"William Shakespeare (Set of 7 Books) - Othello, Romeo and Juliet, Hamlet, Macbeth, the Merchant of Venice, A Midsummer Night's Dream, Julius Caesar\", 'Amazon Brand - Solimo Board Books for Kids (Set of 10)', 'Little Black Book for Stunning Success', 'Think & Grow Rich: THE 21st CENTURY EDITION', \"Harry Potter and the Philosopher's Stone\", 'My First Mythology Tale (Illustrated) (Set of 5 Books) - Mahabharata, Krishna, Hanuman, Ganesha, Ramayana - Story Book for Kids', 'Picture Books Collection for Early Learning (Set of 12)', 'The Subtle Art of Not Giving a F*ck: A Counterintuitive Approach to Living a Good Life', '-', 'How to Prepare for Quantitative Aptitude for the CAT', '101 Panchatantra Stories for Children: Colourful Illustrated Stories', 'My First English Hindi Learning Library: Boxset of 10 Board Books for Kids', 'The Leader Who Had No Title', '100 World’s Greatest Love Poems', '100 Selected Poems, John Keats: Collectable Hardbound edition', 'Make Your Own Luck: How to Increase Your Odds of Success in Sales, Startups, Corporate Career and Life', 'Jolly Kids My First Book of Phonics Words Key to Letter Sound Relationship| Learning the Letter Sounds| Blending| Word Formatting| Sight Words| Phonic Activity Book for Kindergarten Ages 3-7 Years', 'Very First Sight Words Sentences Level - 1', 'Chikitsa Guide For General Medical Practitioners', 'Brilliant Brain Activity Book 4+', '-', 'Amazon Brand - Solimo Maths Activity Book For 3-5 Year Old Kids', 'Mandala: Colouring Books for Adults with Tear Out Sheets (Adult Colouring Book)', \"Grandma's Bag of Stories\", 'Mind is your Business / Body the Greatest Gadget (2 titles in single Book)', 'My First Complete Learning Library: Boxset of 20 Board Books Gift Set for Kids (Horizontal Design)', 'The Illustrated Stories Of Akbar and Birbal: Classic Tales From India', \"Life's Amazing Secrets: How to Find Balance and Purpose in Your Life\", 'All set to Read-A Phonic Reader-Level 1- PHONICS READERS- 6 books in a Box: Box set', 'The PCOD - Thyroid Book - Compiled From Women and the Weight Loss Tamasha', '-', 'Swami Vivekanand (Set of 4 Books) (Hindi) - Karmyog, Rajyog, Gyanyog, Bhaktiyog', '101 Maze Activity Book: Fun Activity Book For Children', 'The Blue Umbrella', 'The Midnight Mayor: 2 (Matthew Swift, 2)', 'How To Raise Your Own Salary']\n"
     ]
    }
   ],
   "source": [
    "titles=[]\n",
    "brands=[]\n",
    "ratings=[]\n",
    "no_ratings=[]\n",
    "price=[]\n",
    "return_=[]\n",
    "delivery=[]\n",
    "avail=[]\n",
    "other=[]\n",
    "url=[]\n",
    "\n",
    "for k in content_pages:\n",
    "    driver.get(k)\n",
    "    g1=[l.get_attribute('href') for l in driver.find_elements_by_xpath('//a[@class=\"a-link-normal a-text-normal\"]')]\n",
    "    for j1 in g1:\n",
    "        driver.get(j1)\n",
    "        try:\n",
    "            titles.append(driver.find_element_by_xpath('//span[@id=\"productTitle\"]').text)\n",
    "        except NoSuchElementException as e:\n",
    "            titles.append(\"-\")\n",
    "        try:\n",
    "            brands.append(driver.find_element_by_xpath('//span[@class=\"author notFaded\"]').text)\n",
    "        except NoSuchElementException as e:\n",
    "            brands.append(\"-\")\n",
    "        try:\n",
    "            ratings.append(driver.find_element_by_xpath('//span[@data-hook=\"rating-out-of-text\"]').text)\n",
    "        except NoSuchElementException as e:\n",
    "            ratings.append(\"-\")\n",
    "        try:\n",
    "            no_ratings.append(driver.find_element_by_xpath('//span[@id=\"acrCustomerReviewText\"]').text)\n",
    "        except NoSuchElementException as e:\n",
    "            no_ratings.append(\"-\")\n",
    "        try:\n",
    "            price.append(driver.find_element_by_xpath('//span[@class=\"a-size-medium a-color-price inlineBlock-display offer-price a-text-normal price3P\"]').text)\n",
    "        except NoSuchElementException as e:\n",
    "            price.append(\"-\")\n",
    "        try:\n",
    "            return_.append(driver.find_element_by_xpath('//a[@class=\"a-size-small a-link-normal a-text-normal\"]').text)\n",
    "        except NoSuchElementException as e:\n",
    "            return_.append(\"-\")\n",
    "        try:\n",
    "            delivery.append(driver.find_element_by_xpath('//div[@id=\"ddmDeliveryMessage\"]').text)\n",
    "        except NoSuchElementException as e:\n",
    "            delivery.append(\"-\")\n",
    "        try:\n",
    "            avail.append(driver.find_element_by_xpath('//div[@id=\"availability\"]').text)\n",
    "        except NoSuchElementException as e:\n",
    "            avail.append(\"-\")\n",
    "        try:\n",
    "            other.append(driver.find_element_by_xpath('//div[@id=\"iframeContent\"]').text)\n",
    "        except NoSuchElementException as e:\n",
    "            other.append(\"-\")\n",
    "        try:\n",
    "            url.append(j1)\n",
    "        except NoSuchElementException as e:\n",
    "            url.append(\"-\")\n",
    "print(titles)"
   ]
  },
  {
   "cell_type": "code",
   "execution_count": 44,
   "metadata": {},
   "outputs": [
    {
     "data": {
      "text/html": [
       "<div>\n",
       "<style scoped>\n",
       "    .dataframe tbody tr th:only-of-type {\n",
       "        vertical-align: middle;\n",
       "    }\n",
       "\n",
       "    .dataframe tbody tr th {\n",
       "        vertical-align: top;\n",
       "    }\n",
       "\n",
       "    .dataframe thead th {\n",
       "        text-align: right;\n",
       "    }\n",
       "</style>\n",
       "<table border=\"1\" class=\"dataframe\">\n",
       "  <thead>\n",
       "    <tr style=\"text-align: right;\">\n",
       "      <th></th>\n",
       "      <th>Title</th>\n",
       "      <th>Brands</th>\n",
       "      <th>Ratings</th>\n",
       "      <th>Number of Rating</th>\n",
       "      <th>Price</th>\n",
       "      <th>Return Policy</th>\n",
       "      <th>Delivery</th>\n",
       "      <th>Availability</th>\n",
       "      <th>Others</th>\n",
       "      <th>Product URL</th>\n",
       "    </tr>\n",
       "  </thead>\n",
       "  <tbody>\n",
       "    <tr>\n",
       "      <th>0</th>\n",
       "      <td>Buddha's House of Mirrors</td>\n",
       "      <td>Shuklaji (Author)</td>\n",
       "      <td>-</td>\n",
       "      <td>-</td>\n",
       "      <td>₹ 149.00</td>\n",
       "      <td>10 Days Replacement Only</td>\n",
       "      <td>Delivery by: Sunday, Feb 28 Details</td>\n",
       "      <td>In stock.</td>\n",
       "      <td>-</td>\n",
       "      <td>https://www.amazon.in/gp/slredirect/picassoRed...</td>\n",
       "    </tr>\n",
       "    <tr>\n",
       "      <th>1</th>\n",
       "      <td>As a Man Thinketh</td>\n",
       "      <td>James Allen (Author)</td>\n",
       "      <td>4.5 out of 5</td>\n",
       "      <td>1,489 ratings</td>\n",
       "      <td>₹ 59.00</td>\n",
       "      <td>10 Days Replacement Only</td>\n",
       "      <td>Delivery by: Saturday, Feb 27 Details\\nFastest...</td>\n",
       "      <td>In stock.</td>\n",
       "      <td>-</td>\n",
       "      <td>https://www.amazon.in/gp/slredirect/picassoRed...</td>\n",
       "    </tr>\n",
       "    <tr>\n",
       "      <th>2</th>\n",
       "      <td>World’s Greatest Books For Personal Growth &amp; W...</td>\n",
       "      <td>Dale Carnegie (Author),</td>\n",
       "      <td>4.5 out of 5</td>\n",
       "      <td>2,540 ratings</td>\n",
       "      <td>₹ 319.00</td>\n",
       "      <td>Pay on Delivery</td>\n",
       "      <td>Delivery by: Saturday, Feb 27 Details\\nFastest...</td>\n",
       "      <td>In stock.</td>\n",
       "      <td>-</td>\n",
       "      <td>https://www.amazon.in/Worlds-Greatest-Personal...</td>\n",
       "    </tr>\n",
       "    <tr>\n",
       "      <th>3</th>\n",
       "      <td>Unfinished: A Memoir</td>\n",
       "      <td>Priyanka Chopra Jonas (Author)</td>\n",
       "      <td>4.2 out of 5</td>\n",
       "      <td>341 ratings</td>\n",
       "      <td>₹ 499.00</td>\n",
       "      <td>Pay on Delivery</td>\n",
       "      <td>Delivery by: Saturday, Feb 27 Details\\nFastest...</td>\n",
       "      <td>In stock.</td>\n",
       "      <td>-</td>\n",
       "      <td>https://www.amazon.in/Unfinished-Memoir-Priyan...</td>\n",
       "    </tr>\n",
       "    <tr>\n",
       "      <th>4</th>\n",
       "      <td>Death; An Inside Story: A book for all those w...</td>\n",
       "      <td>Sadhguru (Author)</td>\n",
       "      <td>4.7 out of 5</td>\n",
       "      <td>3,091 ratings</td>\n",
       "      <td>₹ 211.00</td>\n",
       "      <td>10 Days Replacement Only</td>\n",
       "      <td>Delivery by: Saturday, Feb 27 Details\\nFastest...</td>\n",
       "      <td>In stock.</td>\n",
       "      <td>-</td>\n",
       "      <td>https://www.amazon.in/Death-Inside-Story-those...</td>\n",
       "    </tr>\n",
       "  </tbody>\n",
       "</table>\n",
       "</div>"
      ],
      "text/plain": [
       "                                               Title  \\\n",
       "0                          Buddha's House of Mirrors   \n",
       "1                                  As a Man Thinketh   \n",
       "2  World’s Greatest Books For Personal Growth & W...   \n",
       "3                               Unfinished: A Memoir   \n",
       "4  Death; An Inside Story: A book for all those w...   \n",
       "\n",
       "                           Brands       Ratings Number of Rating     Price  \\\n",
       "0               Shuklaji (Author)             -                -  ₹ 149.00   \n",
       "1            James Allen (Author)  4.5 out of 5    1,489 ratings   ₹ 59.00   \n",
       "2         Dale Carnegie (Author),  4.5 out of 5    2,540 ratings  ₹ 319.00   \n",
       "3  Priyanka Chopra Jonas (Author)  4.2 out of 5      341 ratings  ₹ 499.00   \n",
       "4               Sadhguru (Author)  4.7 out of 5    3,091 ratings  ₹ 211.00   \n",
       "\n",
       "              Return Policy  \\\n",
       "0  10 Days Replacement Only   \n",
       "1  10 Days Replacement Only   \n",
       "2           Pay on Delivery   \n",
       "3           Pay on Delivery   \n",
       "4  10 Days Replacement Only   \n",
       "\n",
       "                                            Delivery Availability Others  \\\n",
       "0                Delivery by: Sunday, Feb 28 Details    In stock.      -   \n",
       "1  Delivery by: Saturday, Feb 27 Details\\nFastest...    In stock.      -   \n",
       "2  Delivery by: Saturday, Feb 27 Details\\nFastest...    In stock.      -   \n",
       "3  Delivery by: Saturday, Feb 27 Details\\nFastest...    In stock.      -   \n",
       "4  Delivery by: Saturday, Feb 27 Details\\nFastest...    In stock.      -   \n",
       "\n",
       "                                         Product URL  \n",
       "0  https://www.amazon.in/gp/slredirect/picassoRed...  \n",
       "1  https://www.amazon.in/gp/slredirect/picassoRed...  \n",
       "2  https://www.amazon.in/Worlds-Greatest-Personal...  \n",
       "3  https://www.amazon.in/Unfinished-Memoir-Priyan...  \n",
       "4  https://www.amazon.in/Death-Inside-Story-those...  "
      ]
     },
     "execution_count": 44,
     "metadata": {},
     "output_type": "execute_result"
    }
   ],
   "source": [
    "data_amazon={\n",
    "    'Title':titles,\n",
    "    'Brands':brands,\n",
    "    'Ratings':ratings,\n",
    "    'Number of Rating':no_ratings,\n",
    "    'Price':price,\n",
    "    'Return Policy':return_,\n",
    "    'Delivery':delivery,\n",
    "    'Availability':avail,\n",
    "    'Others':other,\n",
    "    'Product URL':url}\n",
    "data=pd.DataFrame(data_amazon)\n",
    "data.to_csv('Data_Amazon.csv')\n",
    "data.head()"
   ]
  },
  {
   "cell_type": "markdown",
   "metadata": {},
   "source": [
    "Q 3"
   ]
  },
  {
   "cell_type": "code",
   "execution_count": 39,
   "metadata": {},
   "outputs": [],
   "source": [
    "driver.get('https://www.google.co.in/imghp?hl=en&ogbl')\n",
    "search_str='Fruits'\n",
    "input_place=driver.find_element_by_xpath('//input[@class=\"gLFyf gsfi\"]')\n",
    "input_place.send_keys(search_str)\n",
    "search_btn=driver.find_element_by_xpath(\"//span[@class='z1asCe MZy1Rb']\")\n",
    "search_btn.click()\n",
    "fruits=[]\n",
    "fruit_tags=driver.find_elements_by_xpath('//img[@class=\"rg_i Q4LuWd\"]')\n",
    "for i in fruit_tags[0:100]:\n",
    "    fruits.append(i.get_attribute('src'))"
   ]
  },
  {
   "cell_type": "code",
   "execution_count": 40,
   "metadata": {},
   "outputs": [],
   "source": [
    "driver.get('https://www.google.co.in/imghp?hl=en&ogbl')\n",
    "search_str='Cars'\n",
    "input_place=driver.find_element_by_xpath('//input[@class=\"gLFyf gsfi\"]')\n",
    "input_place.send_keys(search_str)\n",
    "search_btn=driver.find_element_by_xpath(\"//span[@class='z1asCe MZy1Rb']\")\n",
    "search_btn.click()\n",
    "cars=[]\n",
    "\n",
    "fruit_tags=driver.find_elements_by_xpath('//img[@class=\"rg_i Q4LuWd\"]')\n",
    "for i in fruit_tags[0:100]:\n",
    "    cars.append(i.get_attribute('src'))"
   ]
  },
  {
   "cell_type": "code",
   "execution_count": 41,
   "metadata": {},
   "outputs": [],
   "source": [
    "driver.get('https://www.google.co.in/imghp?hl=en&ogbl')\n",
    "search_str='Machine Learning'\n",
    "input_place=driver.find_element_by_xpath('//input[@class=\"gLFyf gsfi\"]')\n",
    "input_place.send_keys(search_str)\n",
    "search_btn=driver.find_element_by_xpath(\"//span[@class='z1asCe MZy1Rb']\")\n",
    "search_btn.click()\n",
    "ML=[]\n",
    "fruit_tags=driver.find_elements_by_xpath('//img[@class=\"rg_i Q4LuWd\"]')\n",
    "for i in fruit_tags[0:100]:\n",
    "    ML.append(i.get_attribute('src'))"
   ]
  },
  {
   "cell_type": "code",
   "execution_count": 43,
   "metadata": {},
   "outputs": [
    {
     "data": {
      "text/html": [
       "<div>\n",
       "<style scoped>\n",
       "    .dataframe tbody tr th:only-of-type {\n",
       "        vertical-align: middle;\n",
       "    }\n",
       "\n",
       "    .dataframe tbody tr th {\n",
       "        vertical-align: top;\n",
       "    }\n",
       "\n",
       "    .dataframe thead th {\n",
       "        text-align: right;\n",
       "    }\n",
       "</style>\n",
       "<table border=\"1\" class=\"dataframe\">\n",
       "  <thead>\n",
       "    <tr style=\"text-align: right;\">\n",
       "      <th></th>\n",
       "      <th>Fruits</th>\n",
       "      <th>Cars</th>\n",
       "      <th>Machine Learning</th>\n",
       "    </tr>\n",
       "  </thead>\n",
       "  <tbody>\n",
       "    <tr>\n",
       "      <th>0</th>\n",
       "      <td>data:image/jpeg;base64,/9j/4AAQSkZJRgABAQAAAQA...</td>\n",
       "      <td>data:image/jpeg;base64,/9j/4AAQSkZJRgABAQAAAQA...</td>\n",
       "      <td>data:image/jpeg;base64,/9j/4AAQSkZJRgABAQAAAQA...</td>\n",
       "    </tr>\n",
       "    <tr>\n",
       "      <th>1</th>\n",
       "      <td>data:image/jpeg;base64,/9j/4AAQSkZJRgABAQAAAQA...</td>\n",
       "      <td>data:image/jpeg;base64,/9j/4AAQSkZJRgABAQAAAQA...</td>\n",
       "      <td>data:image/jpeg;base64,/9j/4AAQSkZJRgABAQAAAQA...</td>\n",
       "    </tr>\n",
       "    <tr>\n",
       "      <th>2</th>\n",
       "      <td>data:image/jpeg;base64,/9j/4AAQSkZJRgABAQAAAQA...</td>\n",
       "      <td>data:image/jpeg;base64,/9j/4AAQSkZJRgABAQAAAQA...</td>\n",
       "      <td>data:image/jpeg;base64,/9j/4AAQSkZJRgABAQAAAQA...</td>\n",
       "    </tr>\n",
       "    <tr>\n",
       "      <th>3</th>\n",
       "      <td>data:image/jpeg;base64,/9j/4AAQSkZJRgABAQAAAQA...</td>\n",
       "      <td>data:image/jpeg;base64,/9j/4AAQSkZJRgABAQAAAQA...</td>\n",
       "      <td>data:image/jpeg;base64,/9j/4AAQSkZJRgABAQAAAQA...</td>\n",
       "    </tr>\n",
       "    <tr>\n",
       "      <th>4</th>\n",
       "      <td>data:image/jpeg;base64,/9j/4AAQSkZJRgABAQAAAQA...</td>\n",
       "      <td>data:image/jpeg;base64,/9j/4AAQSkZJRgABAQAAAQA...</td>\n",
       "      <td>data:image/jpeg;base64,/9j/4AAQSkZJRgABAQAAAQA...</td>\n",
       "    </tr>\n",
       "  </tbody>\n",
       "</table>\n",
       "</div>"
      ],
      "text/plain": [
       "                                              Fruits  \\\n",
       "0  data:image/jpeg;base64,/9j/4AAQSkZJRgABAQAAAQA...   \n",
       "1  data:image/jpeg;base64,/9j/4AAQSkZJRgABAQAAAQA...   \n",
       "2  data:image/jpeg;base64,/9j/4AAQSkZJRgABAQAAAQA...   \n",
       "3  data:image/jpeg;base64,/9j/4AAQSkZJRgABAQAAAQA...   \n",
       "4  data:image/jpeg;base64,/9j/4AAQSkZJRgABAQAAAQA...   \n",
       "\n",
       "                                                Cars  \\\n",
       "0  data:image/jpeg;base64,/9j/4AAQSkZJRgABAQAAAQA...   \n",
       "1  data:image/jpeg;base64,/9j/4AAQSkZJRgABAQAAAQA...   \n",
       "2  data:image/jpeg;base64,/9j/4AAQSkZJRgABAQAAAQA...   \n",
       "3  data:image/jpeg;base64,/9j/4AAQSkZJRgABAQAAAQA...   \n",
       "4  data:image/jpeg;base64,/9j/4AAQSkZJRgABAQAAAQA...   \n",
       "\n",
       "                                    Machine Learning  \n",
       "0  data:image/jpeg;base64,/9j/4AAQSkZJRgABAQAAAQA...  \n",
       "1  data:image/jpeg;base64,/9j/4AAQSkZJRgABAQAAAQA...  \n",
       "2  data:image/jpeg;base64,/9j/4AAQSkZJRgABAQAAAQA...  \n",
       "3  data:image/jpeg;base64,/9j/4AAQSkZJRgABAQAAAQA...  \n",
       "4  data:image/jpeg;base64,/9j/4AAQSkZJRgABAQAAAQA...  "
      ]
     },
     "execution_count": 43,
     "metadata": {},
     "output_type": "execute_result"
    }
   ],
   "source": [
    "data_google_img={\n",
    "    'Fruits':fruits,\n",
    "    'Cars':cars,\n",
    "    'Machine Learning':ML}\n",
    "data=pd.DataFrame(data_google_img)\n",
    "data.to_csv('Data_Google_Img.csv')\n",
    "data.head()"
   ]
  },
  {
   "cell_type": "markdown",
   "metadata": {},
   "source": [
    "Q 4"
   ]
  },
  {
   "cell_type": "code",
   "execution_count": 114,
   "metadata": {},
   "outputs": [
    {
     "name": "stdout",
     "output_type": "stream",
     "text": [
      "Popup absent\n"
     ]
    }
   ],
   "source": [
    "search_str = \"Motorola Mobile\" \n",
    "driver.get('https://www.flipkart.com/')\n",
    "try:\n",
    "    button=driver.find_element_by_xpath('//button[@class=\"_2KpZ6l _2doB4z\"]')\n",
    "    button.click()\n",
    "except NoSuchElementException as e:\n",
    "    print(\"Popup absent\")"
   ]
  },
  {
   "cell_type": "code",
   "execution_count": 115,
   "metadata": {},
   "outputs": [],
   "source": [
    "input_place=driver.find_element_by_xpath('//input[@class=\"_3704LK\"]')\n",
    "input_place.send_keys(search_str)\n",
    "search_btn=driver.find_element_by_xpath(\"//button[@class='L0Z3Pu']\")\n",
    "search_btn.click()"
   ]
  },
  {
   "cell_type": "code",
   "execution_count": 116,
   "metadata": {},
   "outputs": [],
   "source": [
    "brand=[]\n",
    "name=[]\n",
    "colour=[]\n",
    "RAM=[]\n",
    "ROM=[]\n",
    "PCamera=[]\n",
    "SCamera=[]\n",
    "DSize=[]\n",
    "Display_Resolution=[]\n",
    "Processor=[]\n",
    "Cores=[]\n",
    "Battery=[]\n",
    "Price=[]\n",
    "URL=[]\n",
    "page_list=[i.get_attribute('href') for i in driver.find_elements_by_xpath('//a[@class=\"_1fQZEK\"]')]"
   ]
  },
  {
   "cell_type": "code",
   "execution_count": 117,
   "metadata": {},
   "outputs": [
    {
     "name": "stdout",
     "output_type": "stream",
     "text": [
      "22 22\n"
     ]
    }
   ],
   "source": [
    "ind=0\n",
    "for page in page_list:\n",
    "    driver.get(page)\n",
    "    driver.find_element_by_xpath('//button[@class=\"_2KpZ6l _1FH0tX\"]').click()\n",
    "    \n",
    "    t1s=driver.find_elements_by_xpath('//td[@class=\"_1hKmbr col col-3-12\"]')\n",
    "    t2s=driver.find_elements_by_xpath('//li[@class=\"_21lJbe\"]')\n",
    "    property_=[i.text for i in t1s]\n",
    "    value_=[j.text for j in t2s]\n",
    "    for k in range(0,len(property_)):\n",
    "        if property_[k]==\"Secondary Camera\":\n",
    "            SCamera.append(value_[k])\n",
    "        \n",
    "        if property_[k]==\"Primary Camera\":\n",
    "            PCamera.append(value_[k])\n",
    "        \n",
    "        if property_[k]==\"RAM\":\n",
    "            RAM.append(value_[k])\n",
    "        \n",
    "        if property_[k]==\"Internal Storage\":\n",
    "            ROM.append(value_[k])\n",
    "        \n",
    "        if property_[k]==\"Color\":\n",
    "            colour.append(value_[k])\n",
    "        \n",
    "        if property_[k]==\"Model Name\":\n",
    "            name.append(value_[k])\n",
    "        \n",
    "        if property_[k]==\"Display Size\":\n",
    "            DSize.append(value_[k])\n",
    "        \n",
    "        if property_[k]==\"Resolution\":\n",
    "            Display_Resolution.append(value_[k])\n",
    "        \n",
    "        if property_[k]==\"Processor Type\":\n",
    "            Processor.append(value_[k])\n",
    "        \n",
    "        if property_[k]==\"Processor Core\":\n",
    "            Cores.append(value_[k])\n",
    "        \n",
    "        if property_[k]==\"Battery Capacity\":\n",
    "            Battery.append(value_[k])\n",
    "    if(len(SCamera)<(ind+1)):\n",
    "        print(len(SCamera),ind)\n",
    "        SCamera.append('-')\n",
    "    if(len(PCamera)<(ind+1)):\n",
    "        PCamera.append('-')\n",
    "    if(len(RAM)<(ind+1)):\n",
    "        RAM.append('-')\n",
    "    if(len(ROM)<(ind+1)):\n",
    "        ROM.append('-')\n",
    "    if(len(Battery)<(ind+1)):\n",
    "        Battery.append('-')\n",
    "    if(len(Cores)<(ind+1)):\n",
    "        Cores.append('-')\n",
    "    if(len(Processor)<(ind+1)):\n",
    "        Processor.append('-')\n",
    "    if(len(Display_Resolution)<(ind+1)):\n",
    "        Display_Resolution.append('-')\n",
    "    if(len(DSize)<(ind+1)):\n",
    "        DSize.append('-')\n",
    "    if(len(name)<(ind+1)):\n",
    "        name.append('-')\n",
    "    if(len(colour)<(ind+1)):\n",
    "        colour.append('-')\n",
    "    \n",
    "    Price.append(driver.find_element_by_xpath('//div[@class=\"_30jeq3 _16Jk6d\"]').text)\n",
    "    URL.append(page)\n",
    "    brand.append(search_str)\n",
    "    ind=ind+1\n",
    "    \n",
    " \n",
    "    \n",
    "    "
   ]
  },
  {
   "cell_type": "code",
   "execution_count": 119,
   "metadata": {},
   "outputs": [
    {
     "data": {
      "text/plain": [
       "24"
      ]
     },
     "execution_count": 119,
     "metadata": {},
     "output_type": "execute_result"
    }
   ],
   "source": [
    "len(colour)"
   ]
  },
  {
   "cell_type": "code",
   "execution_count": 120,
   "metadata": {},
   "outputs": [
    {
     "data": {
      "text/html": [
       "<div>\n",
       "<style scoped>\n",
       "    .dataframe tbody tr th:only-of-type {\n",
       "        vertical-align: middle;\n",
       "    }\n",
       "\n",
       "    .dataframe tbody tr th {\n",
       "        vertical-align: top;\n",
       "    }\n",
       "\n",
       "    .dataframe thead th {\n",
       "        text-align: right;\n",
       "    }\n",
       "</style>\n",
       "<table border=\"1\" class=\"dataframe\">\n",
       "  <thead>\n",
       "    <tr style=\"text-align: right;\">\n",
       "      <th></th>\n",
       "      <th>Name</th>\n",
       "      <th>Colour</th>\n",
       "      <th>RAM</th>\n",
       "      <th>ROM</th>\n",
       "      <th>Primary Camera</th>\n",
       "      <th>Secondary Camera</th>\n",
       "      <th>Display Size</th>\n",
       "      <th>Display Resolution</th>\n",
       "      <th>Processor</th>\n",
       "      <th>Cores</th>\n",
       "      <th>Battery</th>\n",
       "      <th>Brand</th>\n",
       "      <th>Price</th>\n",
       "      <th>Url</th>\n",
       "    </tr>\n",
       "  </thead>\n",
       "  <tbody>\n",
       "    <tr>\n",
       "      <th>0</th>\n",
       "      <td>E7 Plus</td>\n",
       "      <td>Misty Blue</td>\n",
       "      <td>4 GB</td>\n",
       "      <td>64 GB</td>\n",
       "      <td>48MP + 2MP</td>\n",
       "      <td>8MP Front Camera</td>\n",
       "      <td>16.51 cm (6.5 inch)</td>\n",
       "      <td>1600 x 720 Pixels</td>\n",
       "      <td>Qualcomm Snapdragon 460</td>\n",
       "      <td>Octa Core</td>\n",
       "      <td>5000 mAh</td>\n",
       "      <td>Motorola Mobile</td>\n",
       "      <td>₹9,499</td>\n",
       "      <td>https://www.flipkart.com/motorola-e7-plus-mist...</td>\n",
       "    </tr>\n",
       "    <tr>\n",
       "      <th>1</th>\n",
       "      <td>G9 Power</td>\n",
       "      <td>Electric Violet</td>\n",
       "      <td>4 GB</td>\n",
       "      <td>64 GB</td>\n",
       "      <td>64MP + 2MP + 2MP</td>\n",
       "      <td>16MP Front Camera</td>\n",
       "      <td>17.22 cm (6.78 inch)</td>\n",
       "      <td>1600 x 720 Pixels</td>\n",
       "      <td>Qualcomm Snapdragon 662</td>\n",
       "      <td>Octa Core</td>\n",
       "      <td>6000 mAh</td>\n",
       "      <td>Motorola Mobile</td>\n",
       "      <td>₹11,999</td>\n",
       "      <td>https://www.flipkart.com/motorola-g9-power-ele...</td>\n",
       "    </tr>\n",
       "    <tr>\n",
       "      <th>2</th>\n",
       "      <td>G9</td>\n",
       "      <td>Sapphire Blue</td>\n",
       "      <td>4 GB</td>\n",
       "      <td>64 GB</td>\n",
       "      <td>48MP + 2MP + 2MP</td>\n",
       "      <td>8MP Front Camera</td>\n",
       "      <td>16.51 cm (6.5 inch)</td>\n",
       "      <td>1600 x 720 Pixels</td>\n",
       "      <td>Qualcomm Snapdragon 662</td>\n",
       "      <td>Octa Core</td>\n",
       "      <td>5000 mAh</td>\n",
       "      <td>Motorola Mobile</td>\n",
       "      <td>₹10,999</td>\n",
       "      <td>https://www.flipkart.com/motorola-g9-sapphire-...</td>\n",
       "    </tr>\n",
       "    <tr>\n",
       "      <th>3</th>\n",
       "      <td>Moto G 5G</td>\n",
       "      <td>Volcanic Grey</td>\n",
       "      <td>6 GB</td>\n",
       "      <td>128 GB</td>\n",
       "      <td>48MP + 8MP + 2MP</td>\n",
       "      <td>16MP Front Camera</td>\n",
       "      <td>16.94 cm (6.67 inch)</td>\n",
       "      <td>2400 x 1080 Pixels</td>\n",
       "      <td>Qualcomm Snapdragon 750G</td>\n",
       "      <td>Octa Core</td>\n",
       "      <td>5000 mAh</td>\n",
       "      <td>Motorola Mobile</td>\n",
       "      <td>₹19,999</td>\n",
       "      <td>https://www.flipkart.com/moto-g-5g-volcanic-gr...</td>\n",
       "    </tr>\n",
       "    <tr>\n",
       "      <th>4</th>\n",
       "      <td>Moto G 5G</td>\n",
       "      <td>Frosted Silver</td>\n",
       "      <td>6 GB</td>\n",
       "      <td>128 GB</td>\n",
       "      <td>48MP + 8MP + 2MP</td>\n",
       "      <td>16MP Front Camera</td>\n",
       "      <td>16.94 cm (6.67 inch)</td>\n",
       "      <td>2400 x 1080 Pixels</td>\n",
       "      <td>Qualcomm Snapdragon 750G</td>\n",
       "      <td>Octa Core</td>\n",
       "      <td>5000 mAh</td>\n",
       "      <td>Motorola Mobile</td>\n",
       "      <td>₹19,999</td>\n",
       "      <td>https://www.flipkart.com/moto-g-5g-frosted-sil...</td>\n",
       "    </tr>\n",
       "  </tbody>\n",
       "</table>\n",
       "</div>"
      ],
      "text/plain": [
       "        Name           Colour   RAM     ROM    Primary Camera  \\\n",
       "0    E7 Plus       Misty Blue  4 GB   64 GB        48MP + 2MP   \n",
       "1   G9 Power  Electric Violet  4 GB   64 GB  64MP + 2MP + 2MP   \n",
       "2         G9    Sapphire Blue  4 GB   64 GB  48MP + 2MP + 2MP   \n",
       "3  Moto G 5G    Volcanic Grey  6 GB  128 GB  48MP + 8MP + 2MP   \n",
       "4  Moto G 5G   Frosted Silver  6 GB  128 GB  48MP + 8MP + 2MP   \n",
       "\n",
       "    Secondary Camera          Display Size  Display Resolution  \\\n",
       "0   8MP Front Camera   16.51 cm (6.5 inch)   1600 x 720 Pixels   \n",
       "1  16MP Front Camera  17.22 cm (6.78 inch)   1600 x 720 Pixels   \n",
       "2   8MP Front Camera   16.51 cm (6.5 inch)   1600 x 720 Pixels   \n",
       "3  16MP Front Camera  16.94 cm (6.67 inch)  2400 x 1080 Pixels   \n",
       "4  16MP Front Camera  16.94 cm (6.67 inch)  2400 x 1080 Pixels   \n",
       "\n",
       "                  Processor      Cores   Battery            Brand    Price  \\\n",
       "0   Qualcomm Snapdragon 460  Octa Core  5000 mAh  Motorola Mobile   ₹9,499   \n",
       "1   Qualcomm Snapdragon 662  Octa Core  6000 mAh  Motorola Mobile  ₹11,999   \n",
       "2   Qualcomm Snapdragon 662  Octa Core  5000 mAh  Motorola Mobile  ₹10,999   \n",
       "3  Qualcomm Snapdragon 750G  Octa Core  5000 mAh  Motorola Mobile  ₹19,999   \n",
       "4  Qualcomm Snapdragon 750G  Octa Core  5000 mAh  Motorola Mobile  ₹19,999   \n",
       "\n",
       "                                                 Url  \n",
       "0  https://www.flipkart.com/motorola-e7-plus-mist...  \n",
       "1  https://www.flipkart.com/motorola-g9-power-ele...  \n",
       "2  https://www.flipkart.com/motorola-g9-sapphire-...  \n",
       "3  https://www.flipkart.com/moto-g-5g-volcanic-gr...  \n",
       "4  https://www.flipkart.com/moto-g-5g-frosted-sil...  "
      ]
     },
     "execution_count": 120,
     "metadata": {},
     "output_type": "execute_result"
    }
   ],
   "source": [
    "data_flipkart_mobile={\n",
    "    'Name':name,\n",
    "    'Colour':colour,\n",
    "    'RAM':RAM,\n",
    "    'ROM':ROM,\n",
    "    'Primary Camera':PCamera,\n",
    "    'Secondary Camera':SCamera,\n",
    "    'Display Size':DSize,\n",
    "    'Display Resolution':Display_Resolution,\n",
    "    'Processor':Processor,\n",
    "    'Cores':Cores,\n",
    "    'Battery':Battery,\n",
    "    'Brand':brand,\n",
    "    'Price':Price,\n",
    "    'Url':URL}\n",
    "data=pd.DataFrame(data_flipkart_mobile)\n",
    "data.to_csv('Data_Flipkart_Mobile.csv')\n",
    "data.head()\n"
   ]
  },
  {
   "cell_type": "markdown",
   "metadata": {},
   "source": [
    "Q 5"
   ]
  },
  {
   "cell_type": "code",
   "execution_count": 138,
   "metadata": {},
   "outputs": [],
   "source": [
    "driver.get('https://www.google.com/maps/')"
   ]
  },
  {
   "cell_type": "code",
   "execution_count": 122,
   "metadata": {},
   "outputs": [
    {
     "name": "stdout",
     "output_type": "stream",
     "text": [
      "Enter a city namekolkata\n"
     ]
    }
   ],
   "source": [
    "search_map=driver.find_element_by_xpath('//input[@autofocus=\"autofocus\"]')\n",
    "city=str(input(\"Enter a city name\"))\n",
    "search_map.send_keys(city)\n",
    "but=driver.find_element_by_xpath('//button[@class=\"searchbox-searchbutton\"]')\n",
    "but.click()"
   ]
  },
  {
   "cell_type": "code",
   "execution_count": 128,
   "metadata": {},
   "outputs": [],
   "source": [
    "stri=driver.current_url"
   ]
  },
  {
   "cell_type": "code",
   "execution_count": 131,
   "metadata": {},
   "outputs": [
    {
     "name": "stdout",
     "output_type": "stream",
     "text": [
      "Longitude and lattitude of  kolkata  are  22.6759958 88.3297288 respectively.\n"
     ]
    }
   ],
   "source": [
    "import re\n",
    "a=re.split('@',stri)\n",
    "k=re.split(',',a[1])\n",
    "print('Longitude and lattitude of ',city,' are ',k[0],k[1],'respectively.')"
   ]
  },
  {
   "cell_type": "markdown",
   "metadata": {},
   "source": [
    "Q 6"
   ]
  },
  {
   "cell_type": "code",
   "execution_count": 141,
   "metadata": {},
   "outputs": [],
   "source": [
    "driver.get('https://www.trak.in/')"
   ]
  },
  {
   "cell_type": "code",
   "execution_count": 142,
   "metadata": {},
   "outputs": [],
   "source": [
    "search_invest=driver.find_element_by_xpath('//li[@id=\"menu-item-51510\"]')\n",
    "search_invest.click()\n",
    "#city=str(input(\"Enter a city name\"))\n",
    "#search_map.send_keys(city)\n",
    "#but=driver.find_element_by_xpath('//button[@class=\"searchbox-searchbutton\"]')\n",
    "#but.click()"
   ]
  },
  {
   "cell_type": "markdown",
   "metadata": {},
   "source": [
    "An ad that cannot be inspected blocks the entire page."
   ]
  },
  {
   "cell_type": "markdown",
   "metadata": {},
   "source": [
    "Q 7"
   ]
  },
  {
   "cell_type": "code",
   "execution_count": 143,
   "metadata": {},
   "outputs": [],
   "source": [
    "driver.get('https://www.digit.in/')"
   ]
  },
  {
   "cell_type": "code",
   "execution_count": 145,
   "metadata": {},
   "outputs": [],
   "source": [
    "search_buttn=driver.find_element_by_xpath('//div[@class=\"search\"]/a')\n",
    "search_buttn.click()"
   ]
  },
  {
   "cell_type": "code",
   "execution_count": 152,
   "metadata": {},
   "outputs": [],
   "source": [
    "from selenium.webdriver.common.keys import Keys\n",
    "search_box=driver.find_element_by_xpath('//input[@id=\"globalPageSearchText\"]')\n",
    "search_box.send_keys('gaming laptop')\n",
    "search_box.send_keys(Keys.ENTER)"
   ]
  },
  {
   "cell_type": "code",
   "execution_count": 160,
   "metadata": {},
   "outputs": [],
   "source": [
    "pages_list=[i.get_attribute('href') for i in driver.find_elements_by_xpath('//div[@class=\"searchPage\"]/a')]"
   ]
  },
  {
   "cell_type": "code",
   "execution_count": 165,
   "metadata": {},
   "outputs": [],
   "source": [
    "name=[]\n",
    "price=[]\n",
    "url=[]\n",
    "for link in pages_list:\n",
    "    driver.get(link)\n",
    "    name.append(driver.find_element_by_xpath('//div[@class=\"heading-wraper\"]').text)\n",
    "    price.append(driver.find_element_by_xpath('//div[@class=\"Block-price\"]').text.replace(\"  \",\"\"))\n",
    "    url.append(link)\n",
    "    "
   ]
  },
  {
   "cell_type": "code",
   "execution_count": 166,
   "metadata": {},
   "outputs": [
    {
     "data": {
      "text/html": [
       "<div>\n",
       "<style scoped>\n",
       "    .dataframe tbody tr th:only-of-type {\n",
       "        vertical-align: middle;\n",
       "    }\n",
       "\n",
       "    .dataframe tbody tr th {\n",
       "        vertical-align: top;\n",
       "    }\n",
       "\n",
       "    .dataframe thead th {\n",
       "        text-align: right;\n",
       "    }\n",
       "</style>\n",
       "<table border=\"1\" class=\"dataframe\">\n",
       "  <thead>\n",
       "    <tr style=\"text-align: right;\">\n",
       "      <th></th>\n",
       "      <th>Name</th>\n",
       "      <th>Price</th>\n",
       "      <th>Url</th>\n",
       "    </tr>\n",
       "  </thead>\n",
       "  <tbody>\n",
       "    <tr>\n",
       "      <th>0</th>\n",
       "      <td>Alienware M14x\\nहिन्दी &gt;\\n+ COMPARE</td>\n",
       "      <td>Price : 86,200 (onwards)\\nAvailable at 1 Store</td>\n",
       "      <td>https://www.digit.in/laptops/alienware-m14x-pr...</td>\n",
       "    </tr>\n",
       "    <tr>\n",
       "      <th>1</th>\n",
       "      <td>HP Envy 15-K006tx\\nहिन्दी &gt;\\n+ COMPARE</td>\n",
       "      <td>Price : 80,510</td>\n",
       "      <td>https://www.digit.in/laptops/hp-envy-15-k006tx...</td>\n",
       "    </tr>\n",
       "    <tr>\n",
       "      <th>2</th>\n",
       "      <td>ASUS TUF Gaming FX505DY-BQ024T\\nहिन्दी &gt;\\n+ CO...</td>\n",
       "      <td>Price : 49,000 (onwards)\\nAvailable at 1 Store</td>\n",
       "      <td>https://www.digit.in/laptops/asus-tuf-gaming-f...</td>\n",
       "    </tr>\n",
       "    <tr>\n",
       "      <th>3</th>\n",
       "      <td>ASUS TUF Gaming A15 Ryzen 9 4900H\\nहिन्दी &gt;\\n+...</td>\n",
       "      <td>Price : 96,990 (onwards)\\nAvailable at 1 Store</td>\n",
       "      <td>https://www.digit.in/laptops/asus-tuf-gaming-a...</td>\n",
       "    </tr>\n",
       "    <tr>\n",
       "      <th>4</th>\n",
       "      <td>Acer Predator Triton 700\\nहिन्दी &gt;\\n+ COMPARE</td>\n",
       "      <td>Price : 299,999</td>\n",
       "      <td>https://www.digit.in/laptops/acer-predator-tri...</td>\n",
       "    </tr>\n",
       "  </tbody>\n",
       "</table>\n",
       "</div>"
      ],
      "text/plain": [
       "                                                Name  \\\n",
       "0                Alienware M14x\\nहिन्दी >\\n+ COMPARE   \n",
       "1             HP Envy 15-K006tx\\nहिन्दी >\\n+ COMPARE   \n",
       "2  ASUS TUF Gaming FX505DY-BQ024T\\nहिन्दी >\\n+ CO...   \n",
       "3  ASUS TUF Gaming A15 Ryzen 9 4900H\\nहिन्दी >\\n+...   \n",
       "4      Acer Predator Triton 700\\nहिन्दी >\\n+ COMPARE   \n",
       "\n",
       "                                            Price  \\\n",
       "0  Price : 86,200 (onwards)\\nAvailable at 1 Store   \n",
       "1                                  Price : 80,510   \n",
       "2  Price : 49,000 (onwards)\\nAvailable at 1 Store   \n",
       "3  Price : 96,990 (onwards)\\nAvailable at 1 Store   \n",
       "4                                 Price : 299,999   \n",
       "\n",
       "                                                 Url  \n",
       "0  https://www.digit.in/laptops/alienware-m14x-pr...  \n",
       "1  https://www.digit.in/laptops/hp-envy-15-k006tx...  \n",
       "2  https://www.digit.in/laptops/asus-tuf-gaming-f...  \n",
       "3  https://www.digit.in/laptops/asus-tuf-gaming-a...  \n",
       "4  https://www.digit.in/laptops/acer-predator-tri...  "
      ]
     },
     "execution_count": 166,
     "metadata": {},
     "output_type": "execute_result"
    }
   ],
   "source": [
    "data_digit_gaming_laptop={\n",
    "    'Name':name,\n",
    "    'Price':price,\n",
    "    'Url':url}\n",
    "data=pd.DataFrame(data_digit_gaming_laptop)\n",
    "data.to_csv('Data_Digit_Gaming_Laptop.csv')\n",
    "data.head()"
   ]
  },
  {
   "cell_type": "code",
   "execution_count": null,
   "metadata": {},
   "outputs": [],
   "source": []
  }
 ],
 "metadata": {
  "kernelspec": {
   "display_name": "Python 3",
   "language": "python",
   "name": "python3"
  },
  "language_info": {
   "codemirror_mode": {
    "name": "ipython",
    "version": 3
   },
   "file_extension": ".py",
   "mimetype": "text/x-python",
   "name": "python",
   "nbconvert_exporter": "python",
   "pygments_lexer": "ipython3",
   "version": "3.7.6"
  }
 },
 "nbformat": 4,
 "nbformat_minor": 4
}
